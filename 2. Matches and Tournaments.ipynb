{
 "cells": [
  {
   "cell_type": "markdown",
   "metadata": {},
   "source": [
    "Creating Matches\n",
    "----------------\n",
    "\n",
    "One of the capabilities of the library is to create a match between two strategies. Strategies are implemented in\n",
    "the library as `classes`. A list of all the implemented strategies in the library can be found here: http://axelrod.readthedocs.io/en/latest/reference/all_strategies.html\n",
    "\n",
    "For now we are going to use two simple strategies to demonstrate how we create a `match`.\n",
    "A match is often useful when designing new strategies in order to study how they perform against specific opponents."
   ]
  },
  {
   "cell_type": "markdown",
   "metadata": {},
   "source": [
    "So for example let us create a 5 turns match between `Cooperator` and `Random`. "
   ]
  },
  {
   "cell_type": "markdown",
   "metadata": {},
   "source": [
    "`Cooperator` is a strategy designed to cooperate and each turn, and `Random` is a strategy that cooperates at teach turn with a probability of `0.5`."
   ]
  },
  {
   "cell_type": "code",
   "execution_count": 1,
   "metadata": {},
   "outputs": [],
   "source": [
    "import axelrod as axl"
   ]
  },
  {
   "cell_type": "code",
   "execution_count": 2,
   "metadata": {},
   "outputs": [
    {
     "data": {
      "text/plain": [
       "'4.3.0'"
      ]
     },
     "execution_count": 2,
     "metadata": {},
     "output_type": "execute_result"
    }
   ],
   "source": [
    "axl.__version__"
   ]
  },
  {
   "cell_type": "code",
   "execution_count": 3,
   "metadata": {},
   "outputs": [
    {
     "data": {
      "text/plain": [
       "[(C, D), (C, D), (C, C), (C, C), (C, D)]"
      ]
     },
     "execution_count": 3,
     "metadata": {},
     "output_type": "execute_result"
    }
   ],
   "source": [
    "axl.seed(0)\n",
    "players = (axl.Cooperator(), axl.Random())\n",
    "match = axl.Match(players, turns=5)\n",
    "results = match.play()\n",
    "results"
   ]
  },
  {
   "cell_type": "markdown",
   "metadata": {},
   "source": [
    "The first elemeent of each tuple is the action made by `Cooperator` and the second one by `Random`. Indeed we can see that `Cooperator` played C for all five turns.\n",
    "\n",
    "`Random` is a stochastic strategy and its actions depend on a probability. We can see that the strategy cooperated only on the third and fourth turn.\n",
    "\n",
    "The match between the two strategies is being seeded. That is because of the line `axl.seed(0)`. This means that no matter how many times you run the above match the results will remain the same."
   ]
  },
  {
   "cell_type": "markdown",
   "metadata": {},
   "source": [
    "`Random` is a stochastic strategy and thus the actions of the strategy can be different even for the same opponent! We can see this by running a match with a different seed."
   ]
  },
  {
   "cell_type": "code",
   "execution_count": 4,
   "metadata": {},
   "outputs": [
    {
     "data": {
      "text/plain": [
       "[(C, C), (C, D), (C, D), (C, C), (C, C)]"
      ]
     },
     "execution_count": 4,
     "metadata": {},
     "output_type": "execute_result"
    }
   ],
   "source": [
    "axl.seed(1)\n",
    "players = (axl.Cooperator(), axl.Random())\n",
    "match = axl.Match(players, turns=5)\n",
    "results = match.play()\n",
    "results"
   ]
  },
  {
   "cell_type": "markdown",
   "metadata": {},
   "source": [
    "Now `Random` also cooperated on the first turn. Try and change the seed and see other behaviours of the strategy."
   ]
  },
  {
   "cell_type": "markdown",
   "metadata": {},
   "source": [
    "There are several measures that can be obtained from a match. Let us consider the match between the strategies for `axl.seed(0)`"
   ]
  },
  {
   "cell_type": "code",
   "execution_count": 5,
   "metadata": {},
   "outputs": [],
   "source": [
    "axl.seed(0)\n",
    "players = (axl.Cooperator(), axl.Random())\n",
    "match = axl.Match(players, turns=5)\n",
    "results = match.play()"
   ]
  },
  {
   "cell_type": "markdown",
   "metadata": {},
   "source": [
    "We can view the scores each strategy received at each turn. The first element of the tuples correspond to `Cooperator`."
   ]
  },
  {
   "cell_type": "code",
   "execution_count": 6,
   "metadata": {},
   "outputs": [
    {
     "data": {
      "text/plain": [
       "[(0, 5), (0, 5), (3, 3), (3, 3), (0, 5)]"
      ]
     },
     "execution_count": 6,
     "metadata": {},
     "output_type": "execute_result"
    }
   ],
   "source": [
    "scores = match.scores()\n",
    "scores"
   ]
  },
  {
   "cell_type": "markdown",
   "metadata": {},
   "source": [
    "Note that these scores correspond to the Prisoner's Dilemma (PD) payoffs as presented in [An introduction to game theory and the Iterated Prisoner's Dilemma](1.%20Introduction.ipynb). Thus, in each turn of the match the strategies play a PD game."
   ]
  },
  {
   "cell_type": "code",
   "execution_count": 10,
   "metadata": {},
   "outputs": [
    {
     "data": {
      "text/plain": [
       "Axelrod game: (R,P,S,T) = (3, 1, 0, 5)"
      ]
     },
     "execution_count": 10,
     "metadata": {},
     "output_type": "execute_result"
    }
   ],
   "source": [
    "axl.game.Game()"
   ]
  },
  {
   "cell_type": "markdown",
   "metadata": {},
   "source": [
    "The PD is set as the default game in the library. However, it is possible to use a different game.\n",
    "More information can be found on the online documentation of the Axelrod project, and specifically at [Using and playing different stage games](https://axelrod.readthedocs.io/en/stable/tutorials/advanced/games.html)."
   ]
  },
  {
   "cell_type": "markdown",
   "metadata": {},
   "source": [
    "The final scores of a match, which are the sum of the scores per turn."
   ]
  },
  {
   "cell_type": "code",
   "execution_count": 7,
   "metadata": {},
   "outputs": [
    {
     "data": {
      "text/plain": [
       "(6, 21)"
      ]
     },
     "execution_count": 7,
     "metadata": {},
     "output_type": "execute_result"
    }
   ],
   "source": [
    "match.final_score()"
   ]
  },
  {
   "cell_type": "markdown",
   "metadata": {},
   "source": [
    "The average score achieved per turn."
   ]
  },
  {
   "cell_type": "code",
   "execution_count": 8,
   "metadata": {},
   "outputs": [
    {
     "data": {
      "text/plain": [
       "(1.2, 4.2)"
      ]
     },
     "execution_count": 8,
     "metadata": {},
     "output_type": "execute_result"
    }
   ],
   "source": [
    "match.final_score_per_turn()"
   ]
  },
  {
   "cell_type": "markdown",
   "metadata": {},
   "source": [
    "The winner."
   ]
  },
  {
   "cell_type": "code",
   "execution_count": 9,
   "metadata": {},
   "outputs": [
    {
     "data": {
      "text/plain": [
       "Random: 0.5"
      ]
     },
     "execution_count": 9,
     "metadata": {},
     "output_type": "execute_result"
    }
   ],
   "source": [
    "match.winner()"
   ]
  },
  {
   "cell_type": "markdown",
   "metadata": {},
   "source": [
    "The number of cooperations."
   ]
  },
  {
   "cell_type": "code",
   "execution_count": 10,
   "metadata": {},
   "outputs": [
    {
     "data": {
      "text/plain": [
       "(5, 2)"
      ]
     },
     "execution_count": 10,
     "metadata": {},
     "output_type": "execute_result"
    }
   ],
   "source": [
    "match.cooperation()"
   ]
  },
  {
   "cell_type": "markdown",
   "metadata": {},
   "source": [
    "The normalised number of cooperations."
   ]
  },
  {
   "cell_type": "code",
   "execution_count": 11,
   "metadata": {},
   "outputs": [
    {
     "data": {
      "text/plain": [
       "(1.0, 0.4)"
      ]
     },
     "execution_count": 11,
     "metadata": {},
     "output_type": "execute_result"
    }
   ],
   "source": [
    "match.normalised_cooperation() "
   ]
  },
  {
   "cell_type": "markdown",
   "metadata": {},
   "source": [
    "EXERCISE\n",
    "--------\n",
    "Use the `Match` class to create the following matches:\n",
    "    \n",
    "- 5 turns match Cooperator vs Defector \n",
    "- 10 turns match Tit For Tat vs Grumpy"
   ]
  },
  {
   "cell_type": "markdown",
   "metadata": {},
   "source": [
    "Creating Tournaments\n",
    "-----------------------"
   ]
  },
  {
   "cell_type": "markdown",
   "metadata": {},
   "source": [
    "Remember the library was created to study the interactions between strategies in a round robin tournament. A tournament where each strategy plays against all opponents. The strategy with the highest score is the winner of the tournament. Here we will cover how we can easily create a very simple IPD tournament."
   ]
  },
  {
   "cell_type": "markdown",
   "metadata": {},
   "source": [
    "Here we create a list of players. \n",
    "\n",
    "\n",
    "**Reminder:** The full list of all the implemented strategies can be found [here](http://axelrod.readthedocs.io/en/latest/reference/all_strategies.html)."
   ]
  },
  {
   "cell_type": "code",
   "execution_count": 12,
   "metadata": {},
   "outputs": [],
   "source": [
    "players = [axl.Cooperator(), axl.Defector(), axl.Random(),\n",
    "           axl.TitForTat(), axl.Grumpy(), axl.Alternator()]"
   ]
  },
  {
   "cell_type": "markdown",
   "metadata": {},
   "source": [
    "We can now create a tournament, play it, save the results and view the rank of each player:"
   ]
  },
  {
   "cell_type": "code",
   "execution_count": 13,
   "metadata": {},
   "outputs": [
    {
     "data": {
      "text/plain": [
       "200"
      ]
     },
     "execution_count": 13,
     "metadata": {},
     "output_type": "execute_result"
    }
   ],
   "source": [
    "tournament = axl.Tournament(players=players)\n",
    "tournament.turns # default value of turns"
   ]
  },
  {
   "cell_type": "code",
   "execution_count": 14,
   "metadata": {},
   "outputs": [
    {
     "data": {
      "text/plain": [
       "10"
      ]
     },
     "execution_count": 14,
     "metadata": {},
     "output_type": "execute_result"
    }
   ],
   "source": [
    "tournament.repetitions # default value of repetitions"
   ]
  },
  {
   "cell_type": "code",
   "execution_count": 15,
   "metadata": {
    "tags": [
     "nbval-ignore-output"
    ]
   },
   "outputs": [
    {
     "name": "stderr",
     "output_type": "stream",
     "text": [
      "Playing matches: 100%|██████████| 21/21 [00:00<00:00, 32.90it/s]\n",
      "Analysing: 100%|██████████| 25/25 [00:00<00:00, 121.02it/s]\n"
     ]
    }
   ],
   "source": [
    "axl.seed(1)\n",
    "results = tournament.play()"
   ]
  },
  {
   "cell_type": "markdown",
   "metadata": {},
   "source": [
    "Similar to the matches the tournaments include several result measures. For example the strategies ranked by their average score per turn."
   ]
  },
  {
   "cell_type": "code",
   "execution_count": 16,
   "metadata": {},
   "outputs": [],
   "source": [
    "winners = results.ranked_names"
   ]
  },
  {
   "cell_type": "code",
   "execution_count": 17,
   "metadata": {},
   "outputs": [
    {
     "data": {
      "text/plain": [
       "['Defector',\n",
       " 'Alternator',\n",
       " 'Random: 0.5',\n",
       " 'Tit For Tat',\n",
       " 'Grumpy: Nice, 10, -10',\n",
       " 'Cooperator']"
      ]
     },
     "execution_count": 17,
     "metadata": {},
     "output_type": "execute_result"
    }
   ],
   "source": [
    "winners"
   ]
  },
  {
   "cell_type": "markdown",
   "metadata": {},
   "source": [
    "The winner of the tournament is the strategies at index 0 which in our example is Defector."
   ]
  },
  {
   "cell_type": "code",
   "execution_count": 18,
   "metadata": {},
   "outputs": [
    {
     "data": {
      "text/plain": [
       "'Defector'"
      ]
     },
     "execution_count": 18,
     "metadata": {},
     "output_type": "execute_result"
    }
   ],
   "source": [
    "winners[0]"
   ]
  },
  {
   "cell_type": "markdown",
   "metadata": {},
   "source": [
    "The scores achieved by each strategy at each repetition."
   ]
  },
  {
   "cell_type": "code",
   "execution_count": 19,
   "metadata": {},
   "outputs": [
    {
     "data": {
      "text/plain": [
       "[[1803, 1812, 1752, 1791, 1761, 1800, 1791, 1788, 1821, 1812],\n",
       " [2668, 2612, 2680, 2608, 2612, 2672, 2656, 2668, 2628, 2660],\n",
       " [2616, 2589, 2070, 2606, 2409, 2119, 2605, 2137, 2300, 2218],\n",
       " [2360, 2353, 2352, 2346, 2355, 2364, 2353, 2339, 2346, 2368],\n",
       " [1989, 2013, 2208, 2001, 2056, 2174, 2007, 2167, 2112, 2172],\n",
       " [2638, 2661, 2655, 2647, 2692, 2671, 2655, 2672, 2635, 2643]]"
      ]
     },
     "execution_count": 19,
     "metadata": {},
     "output_type": "execute_result"
    }
   ],
   "source": [
    "scores = results.scores\n",
    "scores"
   ]
  },
  {
   "cell_type": "code",
   "execution_count": 20,
   "metadata": {},
   "outputs": [
    {
     "name": "stdout",
     "output_type": "stream",
     "text": [
      "Cooperator: [1803, 1812, 1752, 1791, 1761, 1800, 1791, 1788, 1821, 1812]\n",
      "========================================================================\n",
      "Defector: [2668, 2612, 2680, 2608, 2612, 2672, 2656, 2668, 2628, 2660]\n",
      "========================================================================\n",
      "Random: [2616, 2589, 2070, 2606, 2409, 2119, 2605, 2137, 2300, 2218]\n",
      "========================================================================\n",
      "Tit For Tat: [2360, 2353, 2352, 2346, 2355, 2364, 2353, 2339, 2346, 2368]\n",
      "========================================================================\n",
      "Grumpy: [1989, 2013, 2208, 2001, 2056, 2174, 2007, 2167, 2112, 2172]\n",
      "========================================================================\n",
      "Alternator: [2638, 2661, 2655, 2647, 2692, 2671, 2655, 2672, 2635, 2643]\n",
      "========================================================================\n"
     ]
    }
   ],
   "source": [
    "for i, player in enumerate(players):\n",
    "    print(f'{player.name}:', scores[i])\n",
    "    print(\"========================================================================\")\n",
    "    "
   ]
  },
  {
   "cell_type": "markdown",
   "metadata": {},
   "source": [
    "We can also plot the results."
   ]
  },
  {
   "cell_type": "code",
   "execution_count": 21,
   "metadata": {},
   "outputs": [],
   "source": [
    "%matplotlib inline"
   ]
  },
  {
   "cell_type": "code",
   "execution_count": 22,
   "metadata": {
    "tags": [
     "nbval-ignore-output"
    ]
   },
   "outputs": [
    {
     "name": "stderr",
     "output_type": "stream",
     "text": [
      "//anaconda3/envs/game-python/lib/python3.6/site-packages/ipykernel_launcher.py:4: UserWarning: Matplotlib is currently using module://ipykernel.pylab.backend_inline, which is a non-GUI backend, so cannot show the figure.\n",
      "  after removing the cwd from sys.path.\n"
     ]
    },
    {
     "data": {
      "image/png": "[encoded data removed]",
      "text/plain": [
       "<Figure size 864x432 with 1 Axes>"
      ]
     },
     "metadata": {
      "needs_background": "light"
     },
     "output_type": "display_data"
    }
   ],
   "source": [
    "plot = axl.Plot(results)\n",
    "p = plot.boxplot()\n",
    "p.show();"
   ]
  },
  {
   "cell_type": "markdown",
   "metadata": {},
   "source": [
    "The above plot shows several things.\n",
    "\n",
    "1. The ranks of the strategies. From left to right the strategies are ordered based on their performance. Defector is first and thus is the winner of the tournament. Cooperator is last and thus came last in the tournament.\n",
    "\n",
    "2. The distributions of the average score each strategy achieved. Random has the more variation in its distribution and thus the strategy has many different scores each time the tournament was repeated. As a reminder the tournament was repeated 10 times."
   ]
  },
  {
   "cell_type": "markdown",
   "metadata": {},
   "source": [
    "EXERCISE\n",
    "--------\n",
    "\n",
    "Create your own tournament using any five players from the library and take a look at the ranked names and plot the scores."
   ]
  },
  {
   "cell_type": "markdown",
   "metadata": {},
   "source": [
    "Summary\n",
    "--------\n",
    "\n",
    "This section has discussed:\n",
    "\n",
    "- Creating a match\n",
    "- and creating various tournaments.\n",
    "\n",
    "In the next section we will send some time looking at implementing our own strategies."
   ]
  }
 ],
 "metadata": {
  "anaconda-cloud": {},
  "celltoolbar": "Tags",
  "kernelspec": {
   "display_name": "game-python",
   "language": "python",
   "name": "game-python"
  },
  "language_info": {
   "codemirror_mode": {
    "name": "ipython",
    "version": 3
   },
   "file_extension": ".py",
   "mimetype": "text/x-python",
   "name": "python",
   "nbconvert_exporter": "python",
   "pygments_lexer": "ipython3",
   "version": "3.6.13"
  }
 },
 "nbformat": 4,
 "nbformat_minor": 2
}
